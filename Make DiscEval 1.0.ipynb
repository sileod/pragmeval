{
 "cells": [
  {
   "cell_type": "code",
   "execution_count": 1,
   "metadata": {},
   "outputs": [],
   "source": [
    "import pandas as pd\n",
    "import numpy as np\n",
    "import random\n",
    "import pickle\n",
    "\n",
    "import xmltodict, json\n",
    "import json\n",
    "import itertools\n",
    "import ftfy\n",
    "import glob, os\n",
    "import zlib"
   ]
  },
  {
   "cell_type": "code",
   "execution_count": 2,
   "metadata": {},
   "outputs": [],
   "source": [
    "def process(s):\n",
    "    return ftfy.fix_text(str(s)).lower()"
   ]
  },
  {
   "cell_type": "code",
   "execution_count": 3,
   "metadata": {},
   "outputs": [],
   "source": [
    "disceval_base_path = \"/data/sileo/libs/git/DiscEval/\" # replace the path of your DiscEval repository\n",
    "disceval_data = f\"{disceval_base_path}/data/\" # make sure you ran get_data.bash\n",
    "disceval_path = f\"{disceval_base_path}/disceval/\"\n",
    "\n",
    "switchboard_labels_path=f\"{disceval_data}/SwitchBoard_labels.tsv\"\n",
    "mrda_labels_path=f\"{disceval_data}/MRDA_labels.tsv\""
   ]
  },
  {
   "cell_type": "code",
   "execution_count": 4,
   "metadata": {},
   "outputs": [
    {
     "data": {
      "text/plain": [
       "['PDTB',\n",
       " 'GUM',\n",
       " 'STAC',\n",
       " 'MRDA',\n",
       " 'SwitchBoard',\n",
       " 'Emergent',\n",
       " 'Sarcasm',\n",
       " 'Verifiability',\n",
       " 'Persuasiveness-Specificity',\n",
       " 'Persuasiveness-Eloquence',\n",
       " 'Persuasiveness-Relevance',\n",
       " 'Persuasiveness-ClaimType',\n",
       " 'Persuasiveness-PremiseType',\n",
       " 'Persuasiveness-Strength',\n",
       " 'Squinky-Formality',\n",
       " 'Squinky-Informativeness',\n",
       " 'Squinky-Implicature',\n",
       " 'EmoBank-Arousal',\n",
       " 'EmoBank-Dominance',\n",
       " 'EmoBank-Valence']"
      ]
     },
     "execution_count": 4,
     "metadata": {},
     "output_type": "execute_result"
    }
   ],
   "source": [
    "tasks = \"PDTB GUM STAC MRDA SwitchBoard Emergent Sarcasm Verifiability\".split()\n",
    "tasks = tasks+ [f\"Persuasiveness-{c}\" for c in [\"Specificity\", \"Eloquence\", \"Relevance\", \"ClaimType\", \"PremiseType\", \"Strength\"]]\n",
    "tasks = tasks + [f\"Squinky-{c}\" for c in [\"Formality\",\"Informativeness\",\"Implicature\"]]\n",
    "tasks = tasks+ [f\"EmoBank-{c}\" for c in [\"Arousal\", \"Dominance\",\"Valence\"]]\n",
    "tasks"
   ]
  },
  {
   "cell_type": "code",
   "execution_count": 5,
   "metadata": {},
   "outputs": [],
   "source": [
    "for t in tasks:\n",
    "    t_path=f\"{disceval_path}/{t}\"\n",
    "    if not os.path.exists(t_path):\n",
    "        os.makedirs(t_path)"
   ]
  },
  {
   "cell_type": "code",
   "execution_count": 6,
   "metadata": {},
   "outputs": [],
   "source": [
    "cols_pairs = [\"sentence1\", \"sentence2\",\"label\"]"
   ]
  },
  {
   "cell_type": "markdown",
   "metadata": {},
   "source": [
    "# PDTB"
   ]
  },
  {
   "cell_type": "code",
   "execution_count": 7,
   "metadata": {},
   "outputs": [
    {
     "name": "stderr",
     "output_type": "stream",
     "text": [
      "/home/dsileo/anaconda3/lib/python3.6/site-packages/IPython/core/interactiveshell.py:3020: DtypeWarning: Columns (15) have mixed types. Specify dtype option on import or set low_memory=False.\n",
      "  interactivity=interactivity, compiler=compiler, result=result)\n"
     ]
    }
   ],
   "source": [
    "df_pdtb = pd.read_csv(f\"{disceval_data}/pdtb2.csv\")\n",
    "df_pdtb.loc[df_pdtb.Relation==\"EntRel\", \"ConnHeadSemClass1\"] = \"Entrel\"\n",
    "df_pdtb = df_pdtb[df_pdtb.ConnHead.isnull()]\n",
    "df_pdtb = df_pdtb[[\"Arg1_RawText\", \"Arg2_RawText\", \"ConnHeadSemClass1\", \"Section\", \"Relation\"]]\n",
    "\n",
    "#standard PDTB split\n",
    "df_pdtb.loc[df_pdtb.Section.between(2,20), \"cv\"] = \"train\"\n",
    "df_pdtb.loc[df_pdtb.Section.between(0,1), \"cv\"] = \"dev\"\n",
    "df_pdtb.loc[df_pdtb.Section.between(21,22), \"cv\"] = \"test\"\n",
    "\n",
    "df_pdtb = df_pdtb[~df_pdtb[\"ConnHeadSemClass1\"].isna()]\n",
    "df_pdtb[\"sentence1\"] = df_pdtb.Arg1_RawText\n",
    "df_pdtb[\"sentence2\"] = df_pdtb.Arg2_RawText\n",
    "df_pdtb[\"label_fine\"] = df_pdtb[\"ConnHeadSemClass1\"].map(lambda s:(str(s)+\".None\").split(\".\")[1])\n",
    "df_pdtb[\"label_coarse\"]=df_pdtb[\"ConnHeadSemClass1\"].map(lambda s:str(s).split(\".\")[0])\n"
   ]
  },
  {
   "cell_type": "code",
   "execution_count": 8,
   "metadata": {},
   "outputs": [
    {
     "name": "stderr",
     "output_type": "stream",
     "text": [
      "/home/dsileo/anaconda3/lib/python3.6/site-packages/ipykernel_launcher.py:8: FutureWarning: The signature of `Series.to_csv` was aligned to that of `DataFrame.to_csv`, and argument 'header' will change its default value from False to True: please pass an explicit value to suppress this warning.\n",
      "  \n",
      "/home/dsileo/anaconda3/lib/python3.6/site-packages/ipykernel_launcher.py:12: SettingWithCopyWarning: \n",
      "A value is trying to be set on a copy of a slice from a DataFrame.\n",
      "Try using .loc[row_indexer,col_indexer] = value instead\n",
      "\n",
      "See the caveats in the documentation: http://pandas.pydata.org/pandas-docs/stable/indexing.html#indexing-view-versus-copy\n",
      "  if sys.path[0] == '':\n",
      "/home/dsileo/anaconda3/lib/python3.6/site-packages/ipykernel_launcher.py:13: SettingWithCopyWarning: \n",
      "A value is trying to be set on a copy of a slice from a DataFrame.\n",
      "Try using .loc[row_indexer,col_indexer] = value instead\n",
      "\n",
      "See the caveats in the documentation: http://pandas.pydata.org/pandas-docs/stable/indexing.html#indexing-view-versus-copy\n",
      "  del sys.path[0]\n"
     ]
    }
   ],
   "source": [
    "np.random.seed(0)\n",
    "task=\"PDTB\"\n",
    "\n",
    "df_fine = df_pdtb[df_pdtb.label_fine!=\"None\"].copy()\n",
    "df_fine[\"label\"]= df_fine[\"label_fine\"]\n",
    "\n",
    "labels=set(df_fine.label)\n",
    "pd.Series(list(labels)).to_csv(f\"{disceval_path}/{task}/labels\", sep=\"\\t\", index=None)\n",
    "\n",
    "for cv in [\"dev\",\"train\",\"test\"]:\n",
    "    df = df_fine[df_fine.cv==cv]\n",
    "    df[\"sentence1\"]=df[\"sentence1\"].map(process)\n",
    "    df[\"sentence2\"]=df[\"sentence2\"].map(process)\n",
    "    df = df[cols_pairs].sample(frac=1.0)\n",
    "    df.to_csv(f\"{disceval_path}/{task}/{cv}.tsv\", index=False, sep=\"\\t\")"
   ]
  },
  {
   "cell_type": "markdown",
   "metadata": {},
   "source": [
    "# GUM"
   ]
  },
  {
   "cell_type": "code",
   "execution_count": 9,
   "metadata": {},
   "outputs": [
    {
     "name": "stderr",
     "output_type": "stream",
     "text": [
      "/home/dsileo/anaconda3/lib/python3.6/site-packages/ipykernel_launcher.py:45: FutureWarning: The signature of `Series.to_csv` was aligned to that of `DataFrame.to_csv`, and argument 'header' will change its default value from False to True: please pass an explicit value to suppress this warning.\n",
      "/home/dsileo/anaconda3/lib/python3.6/site-packages/ipykernel_launcher.py:58: FutureWarning: The signature of `Series.to_csv` was aligned to that of `DataFrame.to_csv`, and argument 'header' will change its default value from False to True: please pass an explicit value to suppress this warning.\n"
     ]
    }
   ],
   "source": [
    "np.random.seed(0)\n",
    "task=\"GUM\"\n",
    "\n",
    "l=[]\n",
    "\n",
    "for path in glob.glob(f\"/{disceval_data}/gum/rst/*.rs3\"):\n",
    "    \n",
    "    file = path.split(\"/\")[-1].replace(\".rs3\",\"\")\n",
    "    s=open(path).read()\n",
    "    o = xmltodict.parse(s)\n",
    "    \n",
    "    id_to_text={}\n",
    "    for x in o[\"rst\"][\"body\"][\"segment\"]:\n",
    "        id_to_text[x[\"@id\"]]=x[\"#text\"]\n",
    "        \n",
    "    attached=[]\n",
    "    for x in o[\"rst\"][\"body\"][\"segment\"]:\n",
    "        if x[\"@parent\"] not in id_to_text:\n",
    "            continue\n",
    "        l+=[{\n",
    "            \"sentence2\":x[\"#text\"],\n",
    "            \"sentence1\":id_to_text[x[\"@parent\"]],\n",
    "            \"label\":x[\"@relname\"],\n",
    "            \"file\":file,\n",
    "            \"hash\":zlib.adler32(file.encode('utf-8')) \n",
    "        }]\n",
    "        attached+=[(x[\"@parent\"],x[\"@id\"])]\n",
    "    \n",
    "    unattached=[]\n",
    "    for x,y in list(itertools.product(*[id_to_text.keys()]*2)):\n",
    "        if x==y:\n",
    "            continue\n",
    "        if (x,y) not in attached:\n",
    "            unattached+=[{\"sentence1\": id_to_text[x],\n",
    "                 \"sentence2\": id_to_text[y],\n",
    "                 \"label\":\"no_relation\",\n",
    "                 \"file\":file,\n",
    "                 \"hash\":zlib.adler32(file.encode('utf-8')) \n",
    "                }]\n",
    "    l+=list(np.random.choice(unattached,int(len(attached)/4)))\n",
    "            \n",
    "df=pd.DataFrame(l)\n",
    "\n",
    "labels=set(df.label)\n",
    "pd.Series(list(labels)).to_csv(f\"{disceval_path}/{task}/labels\", sep=\"\\t\", index=None)\n",
    "\n",
    "\n",
    "df[\"hash\"]=df.hash.rank(method=\"min\")\n",
    "\n",
    "# split according to dialogs\n",
    "hashes = sorted(list(set(df.hash)))\n",
    "s08, s09 = hashes[int(len(hashes)*0.8)], hashes[int(len(hashes)*0.9)]\n",
    "\n",
    "df[\"sentence1\"] = df[\"sentence1\"].map(process)\n",
    "df[\"sentence2\"] = df[\"sentence2\"].map(process)\n",
    "\n",
    "labels=set(df.label)\n",
    "pd.Series(list(labels)).to_csv(f\"{disceval_path}/{task}/labels\", sep=\"\\t\", index=None)\n",
    "\n",
    "df[df.hash<s08][cols_pairs].to_csv(f\"{disceval_path}/{task}/train.tsv\", sep=\"\\t\",index=False)\n",
    "df[(s08<=df.hash)&(df.hash<s09)][cols_pairs].to_csv(f\"{disceval_path}/{task}/dev.tsv\", sep=\"\\t\",index=False)\n",
    "df[s09<=df.hash][cols_pairs].to_csv(f\"{disceval_path}/{task}/test.tsv\", sep=\"\\t\",index=False)"
   ]
  },
  {
   "cell_type": "markdown",
   "metadata": {},
   "source": [
    "# STAC"
   ]
  },
  {
   "cell_type": "code",
   "execution_count": 10,
   "metadata": {},
   "outputs": [
    {
     "name": "stderr",
     "output_type": "stream",
     "text": [
      "/home/dsileo/anaconda3/lib/python3.6/site-packages/ipykernel_launcher.py:26: FutureWarning: The signature of `Series.to_csv` was aligned to that of `DataFrame.to_csv`, and argument 'header' will change its default value from False to True: please pass an explicit value to suppress this warning.\n"
     ]
    }
   ],
   "source": [
    "np.random.seed(0)\n",
    "task=\"STAC\"\n",
    "\n",
    "for part in [\"train\",\"test\"]:\n",
    "    df = pd.read_pickle(f\"{disceval_data}/stac_data_pickles/candidates_{part}_dropeeu_d10_ALLRELS.pkl\")\n",
    "\n",
    "    df=df[df.source_type==\"Segment\"]\n",
    "    df=df[df.source_emitter!=\"Server\"]\n",
    "    df=df[df.target_emitter!=\"Server\"]\n",
    "    df[\"label\"]=df.relation_type\n",
    "    n_relations = int((df.label!=\"no_relation\").sum()/4)\n",
    "    df=pd.concat([df[df.label!=\"no_relation\"], df[df.label==\"no_relation\"].sample(n_relations)]).sample(frac=1.0)\n",
    "    df[\"sentence1\"]=df.source_text\n",
    "    df[\"sentence2\"]=df.target_text\n",
    "\n",
    "    df[\"sentence1\"]=df[\"sentence1\"].map(process)\n",
    "    df[\"sentence2\"]=df[\"sentence2\"].map(process)\n",
    "    df = df.drop_duplicates(subset=[\"sentence1\",\"sentence2\"], keep=False)\n",
    "\n",
    "    if part==\"train\":\n",
    "        cv = np.arange(len(df))/len(df)\n",
    "        np.random.shuffle(cv)\n",
    "        df[cv<0.9][cols_pairs].to_csv(f\"{disceval_path}/{task}/train.tsv\", sep=\"\\t\", index=False)\n",
    "        df[cv>0.9][cols_pairs].to_csv(f\"{disceval_path}/{task}/dev.tsv\", sep=\"\\t\", index=False)\n",
    "        labels=set(df.label)\n",
    "        pd.Series(list(labels)).to_csv(f\"{disceval_path}/{task}/labels\", sep=\"\\t\", index=None)\n",
    "    else:\n",
    "        df[cols_pairs].to_csv(f\"{disceval_path}/{task}/test.tsv\", sep=\"\\t\", index=False)\n"
   ]
  },
  {
   "cell_type": "markdown",
   "metadata": {},
   "source": [
    "# Sarcasm"
   ]
  },
  {
   "cell_type": "code",
   "execution_count": 11,
   "metadata": {},
   "outputs": [
    {
     "name": "stderr",
     "output_type": "stream",
     "text": [
      "/home/dsileo/anaconda3/lib/python3.6/site-packages/ipykernel_launcher.py:17: FutureWarning: The signature of `Series.to_csv` was aligned to that of `DataFrame.to_csv`, and argument 'header' will change its default value from False to True: please pass an explicit value to suppress this warning.\n"
     ]
    }
   ],
   "source": [
    "np.random.seed(0)\n",
    "task=\"Sarcasm\"\n",
    "\n",
    "df = pd.read_csv(f\"{disceval_data}/sarcasm_v2.csv\")\n",
    "df[\"sentence1\"] = df[\"Quote Text\"]\n",
    "df[\"sentence2\"] = df[\"Response Text\"]\n",
    "df[\"label\"] = df[\"Label\"]\n",
    "\n",
    "df[\"sentence1\"]=df[\"sentence1\"].map(process)\n",
    "df[\"sentence2\"]=df[\"sentence2\"].map(process)\n",
    "\n",
    "cv = np.arange(len(df))/len(df)\n",
    "np.random.shuffle(cv)\n",
    "df = df[[\"sentence1\",\"sentence2\",\"label\"]].sample(frac=1.0)\n",
    "\n",
    "labels=set(df.label)\n",
    "pd.Series(list(labels)).to_csv(f\"{disceval_path}/{task}/labels\", sep=\"\\t\", index=None)\n",
    "\n",
    "df[cv<0.8][cols_pairs].to_csv(f\"{disceval_path}/{task}/train.tsv\", sep=\"\\t\", index=False)\n",
    "df[(0.8<cv) & (cv<0.9)][cols_pairs].to_csv(f\"{disceval_path}/{task}/dev.tsv\", sep=\"\\t\", index=False)\n",
    "df[0.9<cv][cols_pairs].to_csv(f\"{disceval_path}/{task}/test.tsv\", sep=\"\\t\", index=False)"
   ]
  },
  {
   "cell_type": "markdown",
   "metadata": {},
   "source": [
    "# Emergent"
   ]
  },
  {
   "cell_type": "code",
   "execution_count": 12,
   "metadata": {},
   "outputs": [
    {
     "name": "stderr",
     "output_type": "stream",
     "text": [
      "/home/dsileo/anaconda3/lib/python3.6/site-packages/ipykernel_launcher.py:18: FutureWarning: The signature of `Series.to_csv` was aligned to that of `DataFrame.to_csv`, and argument 'header' will change its default value from False to True: please pass an explicit value to suppress this warning.\n"
     ]
    }
   ],
   "source": [
    "np.random.seed(0)\n",
    "task=\"Emergent\"\n",
    "\n",
    "df = pd.read_csv(f\"{disceval_data}/url-versions-2015-06-14-clean.csv\")\n",
    "\n",
    "df[\"sentence2\"] = df[\"articleHeadline\"]\n",
    "df[\"sentence1\"] = df[\"claimHeadline\"]\n",
    "df[\"label\"] = df[\"articleHeadlineStance\"]\n",
    "\n",
    "df[\"sentence1\"]=df[\"sentence1\"].map(process)\n",
    "df[\"sentence2\"]=df[\"sentence2\"].map(process)\n",
    "\n",
    "cv = np.arange(len(df))/len(df)\n",
    "np.random.shuffle(cv)\n",
    "df = df[[\"sentence1\",\"sentence2\",\"label\"]].sample(frac=1.0)\n",
    "\n",
    "labels=set(df.label)\n",
    "pd.Series(list(labels)).to_csv(f\"{disceval_path}/{task}/labels\", sep=\"\\t\", index=None)\n",
    "\n",
    "df[cv<0.8][cols_pairs].to_csv(f\"{disceval_path}/{task}/train.tsv\", sep=\"\\t\", index=False)\n",
    "df[(0.8<cv) & (cv<0.9)][cols_pairs].to_csv(f\"{disceval_path}/{task}/dev.tsv\", sep=\"\\t\", index=False)\n",
    "df[0.9<cv][cols_pairs].to_csv(f\"{disceval_path}/{task}/test.tsv\", sep=\"\\t\", index=False)"
   ]
  },
  {
   "cell_type": "markdown",
   "metadata": {},
   "source": [
    "# Persuasiveness"
   ]
  },
  {
   "cell_type": "code",
   "execution_count": 13,
   "metadata": {},
   "outputs": [],
   "source": [
    "categories=[\"Specificity\", \"Eloquence\", \"Relevance\", \"ClaimType\", \"PremiseType\", \"Strength\"]\n",
    "\n",
    "l=[]\n",
    "for path in glob.glob(f\"{disceval_data}/essays_all/essay*.ann\"):\n",
    "    df=pd.read_csv(path,sep=\"\\t\",names=[\"id\",\"ann\",\"text\"])\n",
    "    id_to_text = df[df.id.str.contains(\"T\")].set_index(\"id\")[\"text\"].to_dict()\n",
    "    parents=df[df.ann.str.contains(\"Arg\")].ann.map(lambda x: {x.split()[1].split(\":\")[-1]:x.split()[2].split(\":\")[-1] })\n",
    "    parents=list(parents)\n",
    "    parents={k: v for d in parents for k, v in d.items()}\n",
    "    id_to_text[None]=None\n",
    "    for x in df[df.ann.map(lambda x: any(a in x for a in categories))].ann:\n",
    "        category, t_id, value=x.split()\n",
    "\n",
    "        s2=id_to_text[t_id]\n",
    "        s1=id_to_text[parents.get(t_id,None)]\n",
    "        l+=[{\"sentence1\":s1,\n",
    "             \"sentence2\":s2,\n",
    "             \"category\":category,\n",
    "             \"label\":value,\n",
    "            }]\n",
    "df_l=pd.DataFrame(l)\n",
    "df_l=df_l[df_l.sentence1.map(lambda x:x!=None)]"
   ]
  },
  {
   "cell_type": "code",
   "execution_count": 14,
   "metadata": {},
   "outputs": [
    {
     "name": "stderr",
     "output_type": "stream",
     "text": [
      "/home/dsileo/anaconda3/lib/python3.6/site-packages/ipykernel_launcher.py:11: SettingWithCopyWarning: \n",
      "A value is trying to be set on a copy of a slice from a DataFrame.\n",
      "Try using .loc[row_indexer,col_indexer] = value instead\n",
      "\n",
      "See the caveats in the documentation: http://pandas.pydata.org/pandas-docs/stable/indexing.html#indexing-view-versus-copy\n",
      "  # This is added back by InteractiveShellApp.init_path()\n",
      "/home/dsileo/anaconda3/lib/python3.6/site-packages/ipykernel_launcher.py:13: SettingWithCopyWarning: \n",
      "A value is trying to be set on a copy of a slice from a DataFrame.\n",
      "Try using .loc[row_indexer,col_indexer] = value instead\n",
      "\n",
      "See the caveats in the documentation: http://pandas.pydata.org/pandas-docs/stable/indexing.html#indexing-view-versus-copy\n",
      "  del sys.path[0]\n",
      "/home/dsileo/anaconda3/lib/python3.6/site-packages/ipykernel_launcher.py:21: FutureWarning: The signature of `Series.to_csv` was aligned to that of `DataFrame.to_csv`, and argument 'header' will change its default value from False to True: please pass an explicit value to suppress this warning.\n",
      "/home/dsileo/anaconda3/lib/python3.6/site-packages/ipykernel_launcher.py:15: SettingWithCopyWarning: \n",
      "A value is trying to be set on a copy of a slice from a DataFrame.\n",
      "Try using .loc[row_indexer,col_indexer] = value instead\n",
      "\n",
      "See the caveats in the documentation: http://pandas.pydata.org/pandas-docs/stable/indexing.html#indexing-view-versus-copy\n",
      "  from ipykernel import kernelapp as app\n",
      "/home/dsileo/anaconda3/lib/python3.6/site-packages/ipykernel_launcher.py:17: SettingWithCopyWarning: \n",
      "A value is trying to be set on a copy of a slice from a DataFrame.\n",
      "Try using .loc[row_indexer,col_indexer] = value instead\n",
      "\n",
      "See the caveats in the documentation: http://pandas.pydata.org/pandas-docs/stable/indexing.html#indexing-view-versus-copy\n",
      "/home/dsileo/anaconda3/lib/python3.6/site-packages/ipykernel_launcher.py:18: SettingWithCopyWarning: \n",
      "A value is trying to be set on a copy of a slice from a DataFrame.\n",
      "Try using .loc[row_indexer,col_indexer] = value instead\n",
      "\n",
      "See the caveats in the documentation: http://pandas.pydata.org/pandas-docs/stable/indexing.html#indexing-view-versus-copy\n"
     ]
    }
   ],
   "source": [
    "np.random.seed(0)\n",
    "\n",
    "for c in categories:\n",
    "    task=f\"Persuasiveness-{c}\"\n",
    "\n",
    "    path_c = f\"{disceval_data}/{task}\"\n",
    "    if not os.path.isdir(path_c):\n",
    "        os.mkdir(path_c)\n",
    "    df=df_l[df_l.category==c]\n",
    "    if max([len(x) for x in set(df.label)])==1:\n",
    "        df[\"label\"]=df[\"label\"].map(float)\n",
    "        try:\n",
    "            df[\"label\"] = pd.qcut(df[\"label\"], q=3, labels=[\"low\",\"-\",\"high\"])\n",
    "        except:\n",
    "            df[\"label\"] = pd.qcut(df[\"label\"], q=3, labels=[\"low\",\"high\"],duplicates=\"drop\")\n",
    "        df=df[df.label!=\"-\"]\n",
    "    df[\"sentence1\"] = df.sentence1.map(process)\n",
    "    df[\"sentence2\"] = df.sentence2.map(process)\n",
    "    \n",
    "    labels=set(df.label)\n",
    "    pd.Series(list(labels)).to_csv(f\"{disceval_path}/{task}/labels\", sep=\"\\t\", index=None)\n",
    "    \n",
    "    cv = np.arange(len(df))/len(df)\n",
    "    np.random.shuffle(cv)\n",
    "    \n",
    "    df[cv<0.8][cols_pairs].to_csv(f\"{disceval_path}/{task}/train.tsv\", sep=\"\\t\", index=False)\n",
    "    df[(0.8<cv) & (cv<0.9)][cols_pairs].to_csv(f\"{disceval_path}/{task}/dev.tsv\", sep=\"\\t\", index=False)\n",
    "    df[0.9<cv][cols_pairs].to_csv(f\"{disceval_path}/{task}/test.tsv\", sep=\"\\t\", index=False)\n"
   ]
  },
  {
   "cell_type": "code",
   "execution_count": 15,
   "metadata": {},
   "outputs": [],
   "source": [
    "cols = [\"sentence\",\"label\"]"
   ]
  },
  {
   "cell_type": "markdown",
   "metadata": {},
   "source": [
    "# Switchboard"
   ]
  },
  {
   "cell_type": "code",
   "execution_count": 16,
   "metadata": {},
   "outputs": [
    {
     "name": "stderr",
     "output_type": "stream",
     "text": [
      "/home/dsileo/anaconda3/lib/python3.6/site-packages/ipykernel_launcher.py:23: FutureWarning: The signature of `Series.to_csv` was aligned to that of `DataFrame.to_csv`, and argument 'header' will change its default value from False to True: please pass an explicit value to suppress this warning.\n"
     ]
    }
   ],
   "source": [
    "np.random.seed(0)\n",
    "task=\"SwitchBoard\"\n",
    "\n",
    "label_to_name = pd.read_csv(switchboard_labels_path,sep=\"\\t\").set_index(\"y\")[\"label\"].to_dict()\n",
    "\n",
    "l=[]\n",
    "for cv in [\"train\",\"dev\",\"test\"]:\n",
    "    df=pd.read_csv(f\"/{disceval_data}/Switchboard-Corpus/swda_data/{cv}_set.txt\",sep=\"|\", names=[\"locutor\",\"sentence\",\"y\"])\n",
    "    df[\"sentence\"]=df[\"sentence\"].map(process)\n",
    "    df[\"label\"]=df[\"y\"].map(lambda x:label_to_name[x])\n",
    "    df[\"cv\"]=cv\n",
    "    l+=[df]\n",
    "    \n",
    "df=pd.concat(l)\n",
    "df=df.drop_duplicates(subset=[\"sentence\"], keep=False)\n",
    "\n",
    "\n",
    "n_non_statements = df.label.map(lambda x :\"Statement\" not in x).sum()//4\n",
    "df=pd.concat([df[df.label.map(lambda x :\"Statement\" not in x)],\n",
    "              df[df.label.map(lambda x :\"Statement\" in x)].sample(n_non_statements)]).sample(frac=1.0)\n",
    "\n",
    "labels=set(df.label)\n",
    "pd.Series(list(labels)).to_csv(f\"{disceval_path}/{task}/labels\", sep=\"\\t\", index=None)\n",
    "\n",
    "for cv in [\"train\",\"test\"]:\n",
    "    if cv==\"train\":\n",
    "        rnd = np.arange(len(df))/len(df)\n",
    "        np.random.shuffle(rnd)\n",
    "        df[(rnd<0.9) & (df.cv==\"train\")][cols].to_csv(f\"{disceval_path}/{task}/train.tsv\", sep=\"\\t\", index=False)\n",
    "        df[(rnd>=0.9) & (df.cv==\"train\")][cols].to_csv(f\"{disceval_path}/{task}/dev.tsv\", sep=\"\\t\", index=False)\n",
    "    else:\n",
    "        df[df.cv==\"test\"][cols].to_csv(f\"{disceval_path}/{task}/test.tsv\", sep=\"\\t\", index=False)\n"
   ]
  },
  {
   "cell_type": "markdown",
   "metadata": {},
   "source": [
    "# MRDA"
   ]
  },
  {
   "cell_type": "code",
   "execution_count": 17,
   "metadata": {},
   "outputs": [
    {
     "name": "stderr",
     "output_type": "stream",
     "text": [
      "/home/dsileo/anaconda3/lib/python3.6/site-packages/ipykernel_launcher.py:25: FutureWarning: The signature of `Series.to_csv` was aligned to that of `DataFrame.to_csv`, and argument 'header' will change its default value from False to True: please pass an explicit value to suppress this warning.\n"
     ]
    }
   ],
   "source": [
    "np.random.seed(0)\n",
    "task=\"MRDA\"\n",
    "\n",
    "label_to_name = pd.read_csv(mrda_labels_path,sep=\"\\t\").set_index(\"y\")[\"label\"].to_dict()\n",
    "\n",
    "l=[]\n",
    "for cv in [\"train\",\"dev\",\"test\"]:\n",
    "    df=pd.read_csv(f\"{disceval_data}/MRDA-Corpus/mrda_data/{cv}_set.txt\",sep=\"|\",\n",
    "                names=[\"locutor\",\"sentence\",\"y_coarse\",\"y_medium\",\"y_fine\"])\n",
    "    \n",
    "    df[\"y\"]=df[\"y_fine\"]\n",
    "    df[\"sentence\"]=df[\"sentence\"].map(process)\n",
    "    df[\"label\"]=df[\"y\"].map(lambda x:label_to_name[x])\n",
    "    df[\"cv\"]=cv\n",
    "    l+=[df]\n",
    "    \n",
    "df=pd.concat(l)\n",
    "df=df.drop_duplicates(subset=[\"sentence\"], keep=False)\n",
    "\n",
    "\n",
    "n_non_statements = (df.label!=\"Statement\").sum()//4\n",
    "df=pd.concat([df[df.label!=\"Statement\"], df[df.label==\"Statement\"].sample(n_non_statements)]).sample(frac=1.0)\n",
    "\n",
    "labels=set(df.label)\n",
    "pd.Series(list(labels)).to_csv(f\"{disceval_path}/{task}/labels\", sep=\"\\t\", index=None)\n",
    "\n",
    "#good_labels = (df[df.cv==\"test\"].label.value_counts()>9).to_dict()\n",
    "#df=df[df.label.map(lambda x:good_labels[x])]\n",
    "df.label\n",
    "for cv in [\"train\",\"test\"]:\n",
    "    if cv==\"train\":\n",
    "        rnd = np.arange(len(df))/len(df)\n",
    "        np.random.shuffle(rnd)\n",
    "        df[(rnd<0.9) & (df.cv==\"train\")][cols].to_csv(f\"{disceval_path}/{task}/train.tsv\", sep=\"\\t\", index=False)\n",
    "        df[(rnd>0.9) & (df.cv==\"train\")][cols].to_csv(f\"{disceval_path}/{task}/dev.tsv\", sep=\"\\t\", index=False)\n",
    "    else:\n",
    "        df[df.cv==\"test\"][cols].to_csv(f\"{disceval_path}/{task}/test.tsv\", sep=\"\\t\", index=False)\n"
   ]
  },
  {
   "cell_type": "markdown",
   "metadata": {},
   "source": [
    "# Squinky"
   ]
  },
  {
   "cell_type": "code",
   "execution_count": 18,
   "metadata": {},
   "outputs": [
    {
     "name": "stderr",
     "output_type": "stream",
     "text": [
      "/home/dsileo/anaconda3/lib/python3.6/site-packages/ipykernel_launcher.py:11: FutureWarning: The signature of `Series.to_csv` was aligned to that of `DataFrame.to_csv`, and argument 'header' will change its default value from False to True: please pass an explicit value to suppress this warning.\n",
      "  # This is added back by InteractiveShellApp.init_path()\n"
     ]
    }
   ],
   "source": [
    "np.random.seed(0)\n",
    "\n",
    "for c in ['Formality', 'Informativeness', 'Implicature']:\n",
    "    \n",
    "    df = pd.read_csv(f\"{disceval_data}/mturk_merged.csv\")\n",
    "    df[\"label\"] = pd.qcut(df[c.lower()], q=3, labels=[\"low\",\"-\",\"high\"])\n",
    "    df=df[df.label!=\"-\"]\n",
    "    \n",
    "    labels=set(df.label)\n",
    "    task=f\"Squinky-{c}\"\n",
    "    pd.Series(list(labels)).to_csv(f\"{disceval_path}/{task}/labels\", sep=\"\\t\", index=None)\n",
    "    \n",
    "    df[\"sentence\"] = df[\"sentence\"].map(process)\n",
    "    \n",
    "    cv = np.arange(len(df))/len(df)\n",
    "    np.random.shuffle(cv)\n",
    "    df[cv<0.8][cols].to_csv(f\"{disceval_path}/{task}/train.tsv\", sep=\"\\t\", index=False)\n",
    "    df[(0.8<cv) & (cv<0.9)][cols].to_csv(f\"{disceval_path}/{task}/dev.tsv\", sep=\"\\t\", index=False)\n",
    "    df[0.9<cv][cols].to_csv(f\"{disceval_path}/{task}/test.tsv\", sep=\"\\t\", index=False)"
   ]
  },
  {
   "cell_type": "markdown",
   "metadata": {},
   "source": [
    "# Verifiability"
   ]
  },
  {
   "cell_type": "code",
   "execution_count": 19,
   "metadata": {},
   "outputs": [
    {
     "name": "stderr",
     "output_type": "stream",
     "text": [
      "/home/dsileo/anaconda3/lib/python3.6/site-packages/ipykernel_launcher.py:26: FutureWarning: The signature of `Series.to_csv` was aligned to that of `DataFrame.to_csv`, and argument 'header' will change its default value from False to True: please pass an explicit value to suppress this warning.\n"
     ]
    }
   ],
   "source": [
    "np.random.seed(0)\n",
    "task=\"Verifiability\"\n",
    "\n",
    "label_names={'u' : \"unverifiable\",\n",
    "'n' : \"non-experiential\",\n",
    "'e' : \"experiential\"}\n",
    "\n",
    "for cv in [\"train\",\"test\"]:\n",
    "    l=[]\n",
    "    for x in open(f\"{disceval_data}/verifiability/{cv}.txt\"):\n",
    "        y=x[0]\n",
    "        text=\" \".join(x[2:].strip().split(\"#\")[:-1])\n",
    "        l+=[{\"sentence\":text,\"label\":label_names[y]}]\n",
    "    df=pd.DataFrame(l)\n",
    "    df[\"sentence\"] = df.sentence.map(process)\n",
    "    \n",
    "    if cv==\"train\":\n",
    "        rnd = np.arange(len(df))/len(df)\n",
    "        np.random.shuffle(rnd)\n",
    "        df[rnd<0.9][cols].to_csv(f\"{disceval_path}/{task}/train.tsv\", sep=\"\\t\", index=False)\n",
    "        df[rnd>0.9][cols].to_csv(f\"{disceval_path}/{task}/dev.tsv\", sep=\"\\t\", index=False)\n",
    "    else:\n",
    "        df[cols].to_csv(f\"{disceval_path}/{task}/test.tsv\", sep=\"\\t\", index=False)\n",
    "\n",
    "labels=set(df.label)\n",
    "pd.Series(list(labels)).to_csv(f\"{disceval_path}/{task}/labels\", sep=\"\\t\", index=None)"
   ]
  },
  {
   "cell_type": "markdown",
   "metadata": {},
   "source": [
    "# Emobank"
   ]
  },
  {
   "cell_type": "code",
   "execution_count": 20,
   "metadata": {},
   "outputs": [
    {
     "name": "stderr",
     "output_type": "stream",
     "text": [
      "/home/dsileo/anaconda3/lib/python3.6/site-packages/ipykernel_launcher.py:15: FutureWarning: The signature of `Series.to_csv` was aligned to that of `DataFrame.to_csv`, and argument 'header' will change its default value from False to True: please pass an explicit value to suppress this warning.\n",
      "  from ipykernel import kernelapp as app\n"
     ]
    }
   ],
   "source": [
    "np.random.seed(0)\n",
    "\n",
    "for c in [\"Valence\", \"Arousal\", \"Dominance\"]:\n",
    "    df=pd.read_csv(f\"{disceval_data}/emobank.csv\")\n",
    "    df[\"sentence\"] = df.text.map(process)\n",
    "    df[\"label\"] = pd.qcut(df[c[0]], q=3, labels=[\"low\",\"-\",\"high\"])\n",
    "    df=df[(df.label!=\"-\") & df.sentence.map(lambda x: not x.endswith(\",\"))]\n",
    "\n",
    "    cv = np.arange(len(df))/len(df)\n",
    "    np.random.shuffle(cv)\n",
    "    df = df[cols].sample(frac=1.0)\n",
    "\n",
    "    labels=set(df.label)\n",
    "    task=f\"EmoBank-{c}\"\n",
    "    pd.Series(list(labels)).to_csv(f\"{disceval_path}/{task}/labels\", sep=\"\\t\", index=None)   \n",
    "\n",
    "    df[cv<0.8][cols].to_csv(f\"{disceval_path}/{task}/train.tsv\", sep=\"\\t\", index=False)\n",
    "    df[(0.8<cv) & (cv<0.9)][cols].to_csv(f\"{disceval_path}/{task}/dev.tsv\", sep=\"\\t\", index=False)\n",
    "    df[0.9<cv][cols].to_csv(f\"{disceval_path}/{task}/test.tsv\", sep=\"\\t\", index=False)"
   ]
  },
  {
   "cell_type": "code",
   "execution_count": 21,
   "metadata": {},
   "outputs": [
    {
     "name": "stdout",
     "output_type": "stream",
     "text": [
      "/data/sileo/libs/git/DiscEval//disceval/PDTB/train.tsv 12907\n",
      "/data/sileo/libs/git/DiscEval//disceval/GUM/train.tsv 1700\n",
      "/data/sileo/libs/git/DiscEval//disceval/STAC/train.tsv 11230\n",
      "/data/sileo/libs/git/DiscEval//disceval/MRDA/train.tsv 14484\n",
      "/data/sileo/libs/git/DiscEval//disceval/SwitchBoard/train.tsv 18930\n",
      "/data/sileo/libs/git/DiscEval//disceval/Emergent/train.tsv 2076\n",
      "/data/sileo/libs/git/DiscEval//disceval/Sarcasm/train.tsv 3754\n",
      "/data/sileo/libs/git/DiscEval//disceval/Verifiability/train.tsv 5712\n",
      "/data/sileo/libs/git/DiscEval//disceval/Persuasiveness-Specificity/train.tsv 504\n",
      "/data/sileo/libs/git/DiscEval//disceval/Persuasiveness-Eloquence/train.tsv 725\n",
      "/data/sileo/libs/git/DiscEval//disceval/Persuasiveness-Relevance/train.tsv 725\n",
      "/data/sileo/libs/git/DiscEval//disceval/Persuasiveness-ClaimType/train.tsv 160\n",
      "/data/sileo/libs/git/DiscEval//disceval/Persuasiveness-PremiseType/train.tsv 566\n",
      "/data/sileo/libs/git/DiscEval//disceval/Persuasiveness-Strength/train.tsv 371\n",
      "/data/sileo/libs/git/DiscEval//disceval/Squinky-Formality/train.tsv 3622\n",
      "/data/sileo/libs/git/DiscEval//disceval/Squinky-Informativeness/train.tsv 3719\n",
      "/data/sileo/libs/git/DiscEval//disceval/Squinky-Implicature/train.tsv 3724\n",
      "/data/sileo/libs/git/DiscEval//disceval/EmoBank-Arousal/train.tsv 5470\n",
      "/data/sileo/libs/git/DiscEval//disceval/EmoBank-Dominance/train.tsv 6392\n",
      "/data/sileo/libs/git/DiscEval//disceval/EmoBank-Valence/train.tsv 5150\n"
     ]
    }
   ],
   "source": [
    "for path in glob.glob(f\"{disceval_path}/*/train.tsv\"):\n",
    "    print(path, len(pd.read_csv(path,sep=\"\\t\")))"
   ]
  }
 ],
 "metadata": {
  "kernelspec": {
   "display_name": "Python 3",
   "language": "python",
   "name": "python3"
  },
  "language_info": {
   "codemirror_mode": {
    "name": "ipython",
    "version": 3
   },
   "file_extension": ".py",
   "mimetype": "text/x-python",
   "name": "python",
   "nbconvert_exporter": "python",
   "pygments_lexer": "ipython3",
   "version": "3.6.7"
  }
 },
 "nbformat": 4,
 "nbformat_minor": 2
}
