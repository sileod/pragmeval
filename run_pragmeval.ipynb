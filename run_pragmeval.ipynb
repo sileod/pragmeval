{
  "nbformat": 4,
  "nbformat_minor": 0,
  "metadata": {
    "colab": {
      "name": "run pragmeval.ipynb",
      "provenance": [],
      "collapsed_sections": [],
      "authorship_tag": "ABX9TyOOV5SDfPZZLSwAUtvlz6PA",
      "include_colab_link": true
    },
    "kernelspec": {
      "name": "python3",
      "display_name": "Python 3"
    },
    "language_info": {
      "name": "python"
    }
  },
  "cells": [
    {
      "cell_type": "markdown",
      "metadata": {
        "id": "view-in-github",
        "colab_type": "text"
      },
      "source": [
        "<a href=\"https://colab.research.google.com/github/sileod/pragmeval/blob/master/run_pragmeval.ipynb\" target=\"_parent\"><img src=\"https://colab.research.google.com/assets/colab-badge.svg\" alt=\"Open In Colab\"/></a>"
      ]
    },
    {
      "cell_type": "code",
      "source": [
        "import os\n",
        "os.system('pip install transformers datasets pygrove xpflow funcy')\n",
        "import pygrove\n",
        "from xpflow import Xp\n",
        "from datasets import get_dataset_config_names"
      ],
      "metadata": {
        "id": "cDdT9TI74P0q"
      },
      "execution_count": null,
      "outputs": []
    },
    {
      "cell_type": "code",
      "execution_count": null,
      "metadata": {
        "id": "UHC-SXd64Onm"
      },
      "outputs": [],
      "source": [
        "metric=load_metric(\"glue\",\"mnli\")\n",
        "\n",
        "def preprocess_function(examples):\n",
        "    if 'sentence1' in examples:\n",
        "        return tokenizer(examples['sentence1'], examples['sentence2'], truncation=True, padding=\"max_length\",max_length=256)\n",
        "    else:\n",
        "        return tokenizer(examples['sentence'], truncation=True, padding=\"max_length\",max_length=256)\n",
        "\n",
        "def compute_metrics(eval_pred):\n",
        "    predictions, labels = eval_pred\n",
        "    predictions = np.argmax(predictions, axis=1)\n",
        "    return metric.compute(predictions=predictions, references=labels)\n",
        "\"\"\"\n",
        "Replace model_name by your model and adjust gradient_accumulation_steps to suit your gpu size\n",
        "\"\"\"\n",
        "class evaluate(Xp):\n",
        "    model_name='roberta-base' # Your model\n",
        "    dataset_name=get_dataset_config_names('pragmeval')\n",
        "    num_train_epochs=3\n",
        "    batch_size=16\n",
        "    learning_rate=2e-5\n",
        "    gradient_accumulation_steps=1\n",
        "    warmup_ratio=0.06\n",
        "    seed=0\n",
        "\n",
        "\n",
        "for xp in evaluate():\n",
        "    tokenizer=AutoTokenizer.from_pretrained(xp.model_name)\n",
        "    dataset=load_dataset('pragmeval',xp.dataset_name)\n",
        "    encoded_dataset = dataset.map(preprocess_function, batched=True)\n",
        "    num_labels=dataset['train'].features['label'].num_classes\n",
        "    model=AutoModelForSequenceClassification.from_pretrained(xp.model_name,num_labels=num_labels)\n",
        "\n",
        "    args = TrainingArguments(\n",
        "                xp.dataset_name,\n",
        "                save_strategy=\"no\",\n",
        "                save_steps=1e9,\n",
        "                evaluation_strategy = \"epoch\",\n",
        "                per_device_train_batch_size=xp.batch_size//xp.gradient_accumulation_steps,\n",
        "                per_device_eval_batch_size=xp.batch_size//xp.gradient_accumulation_steps,\n",
        "                **fc.project(dict(xp), dir(TrainingArguments)),\n",
        "                fp16_opt_level=\"O1\",\n",
        "            )\n",
        "    trainer = Trainer(\n",
        "        model,\n",
        "        args,\n",
        "        train_dataset=encoded_dataset[\"train\"],\n",
        "        eval_dataset=encoded_dataset[\"validation\"],\n",
        "        tokenizer=tokenizer,\n",
        "        compute_metrics=compute_metrics,\n",
        "    )\n",
        "\n",
        "    trainer.train()\n",
        "    print(xp, trainer.predict(encoded_datasets[\"test\"]).metrics) # log your results here"
      ]
    }
  ]
}